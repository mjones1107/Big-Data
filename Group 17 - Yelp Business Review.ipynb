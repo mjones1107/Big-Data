{
 "cells": [
  {
   "cell_type": "code",
   "execution_count": 1,
   "metadata": {},
   "outputs": [],
   "source": [
    "import findspark\n",
    "findspark.init()"
   ]
  },
  {
   "cell_type": "code",
   "execution_count": 2,
   "metadata": {},
   "outputs": [],
   "source": [
    "import re\n",
    "import nltk\n",
    "from pyspark import SparkConf, SparkContext\n",
    "from nltk.corpus import stopwords\n",
    "from pyspark.context import SparkContext\n",
    "from pyspark.sql import SparkSession\n",
    "from pyspark.ml.feature import Tokenizer, HashingTF, IDF \n",
    "from pyspark.sql.functions import col\n",
    "from pyspark.sql.types import DoubleType\n",
    "import pyspark.sql as SQL\n",
    "import pandas as pd\n",
    "import seaborn as sns\n",
    "import matplotlib.pyplot as plt"
   ]
  },
  {
   "cell_type": "code",
   "execution_count": 3,
   "metadata": {},
   "outputs": [],
   "source": [
    "spark = SparkSession.builder.appName('YelpBusinessReview').getOrCreate()"
   ]
  },
  {
   "cell_type": "code",
   "execution_count": 4,
   "metadata": {},
   "outputs": [
    {
     "name": "stdout",
     "output_type": "stream",
     "text": [
      "root\n",
      " |-- business_id: string (nullable = true)\n",
      " |-- name: string (nullable = true)\n",
      " |-- neighborhood: string (nullable = true)\n",
      " |-- address: string (nullable = true)\n",
      " |-- city: string (nullable = true)\n",
      " |-- state: string (nullable = true)\n",
      " |-- postal_code: string (nullable = true)\n",
      " |-- latitude: string (nullable = true)\n",
      " |-- longitude: string (nullable = true)\n",
      " |-- stars: string (nullable = true)\n",
      " |-- review_count: string (nullable = true)\n",
      " |-- is_open: string (nullable = true)\n",
      " |-- categories: string (nullable = true)\n",
      "\n",
      "+--------------------+--------------------+------------------+--------------------+--------------+-------------+-----------+-------------+--------------+------------+------------+-------+--------------------+\n",
      "|         business_id|                name|      neighborhood|             address|          city|        state|postal_code|     latitude|     longitude|       stars|review_count|is_open|          categories|\n",
      "+--------------------+--------------------+------------------+--------------------+--------------+-------------+-----------+-------------+--------------+------------+------------+-------+--------------------+\n",
      "|FYWN1wneV18bWNgQj...|\"\"\"Dental by Desi...|              null| \"\"\"4855 E Warner Rd|     Ste B9\"\"\"|    Ahwatukee|         AZ|        85044|    33.3306902|-111.9785992|         4.0|     22|                   1|\n",
      "|He-G7vWjzVUysIKrf...|\"\"\"Stephen Szabo ...|              null|\"\"\"3101 Washingto...|      McMurray|           PA|      15317|   40.2916853|   -80.1048999|         3.0|          11|      1|Hair Stylists;Hai...|\n",
      "|KQPW8lFf1y5BT2Mxi...|\"\"\"Western Motor ...|              null|  \"\"\"6025 N 27th Ave|      Ste 1\"\"\"|      Phoenix|         AZ|        85017|    33.5249025|-112.1153098|         1.5|     18|                   1|\n",
      "|8DShNS-LuFqpEWIp0...|\"\"\"Sports Authori...|              null|\"\"\"5000 Arizona M...|    Ste 435\"\"\"|        Tempe|         AZ|        85282|    33.3831468|-111.9647254|         3.0|      9|                   0|\n",
      "|PfOCPjBrlQAnz__NX...|\"\"\"Brick House Ta...|              null|  \"\"\"581 Howe Ave\"\"\"|Cuyahoga Falls|           OH|      44221|   41.1195346|   -81.4756898|         3.5|         116|      1|American (New);Ni...|\n",
      "|o9eMRCWt5PkpLDE0g...|       \"\"\"Messina\"\"\"|              null|\"\"\"Richterstr. 11\"\"\"|     Stuttgart|           BW|      70567|      48.7272|       9.14795|         4.0|           5|      1| Italian;Restaurants|\n",
      "|kCoE3jvEtg6UVz5SO...|    \"\"\"BDJ Realty\"\"\"|         Summerlin|  \"\"\"2620 Regatta Dr|    Ste 102\"\"\"|    Las Vegas|         NV|        89128|      36.20743|  -115.26846|         4.0|      5|                   1|\n",
      "|OD2hnuuTJI9uotcKy...|   \"\"\"Soccer Zone\"\"\"|              null|\"\"\"7240 W Lake Me...|      Ste 4\"\"\"|    Las Vegas|         NV|        89128|    36.1974844|-115.2496601|         1.5|      9|                   1|\n",
      "|EsMcGiZaQuG1OOvL9...|\"\"\"Any Given Sund...|              null|\"\"\"2612 Brandt Sc...|       Wexford|           PA|      15090|40.6151022445|-80.0913487465|         5.0|          15|      1|Coffee & Tea;Ice ...|\n",
      "|TGWhGNusxyMaA4kQV...|\"\"\"Detailing Gone...|              null|                \"\"\"\"|     Henderson|           NV|      89014|36.0558252127| -115.04635039|         5.0|           7|      1|Automotive;Auto D...|\n",
      "|XOSRcvtaKc_Q5H1SA...|\"\"\"East Coast Cof...|              null|\"\"\"737 West Pike ...|       Houston|           PA|      15342|40.2415480142|-80.2128151059|         4.5|           3|      0|Breakfast & Brunc...|\n",
      "|Y0eMNa5C-YU1RQOZf...|\"\"\"CubeSmart Self...|              null|\"\"\"2414 South Gil...|      Chandler|           AZ|      85286|   33.2717201|  -111.7912569|         5.0|          23|      1|Local Services;Se...|\n",
      "|xcgFnd-MwkZeO5G2H...|\"\"\"T & T Bakery a...|   Markham Village|\"\"\"35 Main Street...|       Markham|           ON|    L3P 1X3|   43.8751774|   -79.2601532|         4.0|          38|      1|Bakeries;Bagels;Food|\n",
      "|NmZtoE3v8RdSJEczY...|\"\"\"Complete Denta...|              null|\"\"\"107 Whitaker S...|     Homestead|           PA|      15120|   40.4014882|   -79.8879161|         2.0|           5|      1|General Dentistry...|\n",
      "|fNMVV_ZX7CJSDWQGd...|\"\"\"Showmars Gover...|            Uptown|  \"\"\"600 E 4th St\"\"\"|     Charlotte|           NC|      28202|   35.2216474|   -80.8393449|         3.5|           7|      1|Restaurants;Ameri...|\n",
      "|l09JfMeQ6ynYs5MCJ...|\"\"\"Alize Catering\"\"\"|Yonge and Eglinton| \"\"\"2459 Yonge St\"\"\"|       Toronto|           ON|    M4P 2H6|   43.7113993|   -79.3993388|         3.0|          12|      0|Italian;French;Re...|\n",
      "|IQSlT5jGE6CCDhSG0...|\"\"\"T & Y Nail Spa\"\"\"|              null|\"\"\"8411 W Thunder...|   Unit 101\"\"\"|       Peoria|         AZ|        85381|    33.6086538|-112.2400118|         3.0|     20|                   1|\n",
      "|b2I2DXtZVnpUMCXp1...|\"\"\"Meineke Car Ca...|              null|\"\"\"2518 Ironwood ...|   Sun Prairie|           WI|      53590|     43.18508|    -89.262047|         3.5|           9|      1|Tires;Oil Change ...|\n",
      "|0FMKDOU8TJT1x87OK...|\"\"\"Senior's Barbe...|              null|\"\"\"13375 W McDowe...|      Goodyear|           AZ|      85395|    33.463629|   -112.347038|         5.0|          65|      1|Barbers;Beauty & ...|\n",
      "|Gu-xs3NIQTj3Mj2xY...|\"\"\"Maxim Bakery &...|              null|\"\"\"9665 Bayview A...|   Unit 1-4\"\"\"|Richmond Hill|         ON|      L4C 9V4|    43.8675648| -79.4126618|         3.5|     34|                   1|\n",
      "+--------------------+--------------------+------------------+--------------------+--------------+-------------+-----------+-------------+--------------+------------+------------+-------+--------------------+\n",
      "only showing top 20 rows\n",
      "\n"
     ]
    }
   ],
   "source": [
    "df = spark.read.format(\"csv\").option(\"header\", \"true\").option(\"multiline\",\"true\").load(\"yelp_business.csv\") \n",
    "df.printSchema()\n",
    "df.show()"
   ]
  },
  {
   "cell_type": "code",
   "execution_count": 5,
   "metadata": {},
   "outputs": [
    {
     "name": "stdout",
     "output_type": "stream",
     "text": [
      "+--------------------+------------+------------+--------------------+\n",
      "|         business_id|review_count|       stars|          categories|\n",
      "+--------------------+------------+------------+--------------------+\n",
      "|FYWN1wneV18bWNgQj...|         4.0|-111.9785992|                   1|\n",
      "|He-G7vWjzVUysIKrf...|          11|         3.0|Hair Stylists;Hai...|\n",
      "|KQPW8lFf1y5BT2Mxi...|         1.5|-112.1153098|                   1|\n",
      "|8DShNS-LuFqpEWIp0...|         3.0|-111.9647254|                   0|\n",
      "|PfOCPjBrlQAnz__NX...|         116|         3.5|American (New);Ni...|\n",
      "|o9eMRCWt5PkpLDE0g...|           5|         4.0| Italian;Restaurants|\n",
      "|kCoE3jvEtg6UVz5SO...|         4.0|  -115.26846|                   1|\n",
      "|OD2hnuuTJI9uotcKy...|         1.5|-115.2496601|                   1|\n",
      "|EsMcGiZaQuG1OOvL9...|          15|         5.0|Coffee & Tea;Ice ...|\n",
      "|TGWhGNusxyMaA4kQV...|           7|         5.0|Automotive;Auto D...|\n",
      "|XOSRcvtaKc_Q5H1SA...|           3|         4.5|Breakfast & Brunc...|\n",
      "|Y0eMNa5C-YU1RQOZf...|          23|         5.0|Local Services;Se...|\n",
      "|xcgFnd-MwkZeO5G2H...|          38|         4.0|Bakeries;Bagels;Food|\n",
      "|NmZtoE3v8RdSJEczY...|           5|         2.0|General Dentistry...|\n",
      "|fNMVV_ZX7CJSDWQGd...|           7|         3.5|Restaurants;Ameri...|\n",
      "|l09JfMeQ6ynYs5MCJ...|          12|         3.0|Italian;French;Re...|\n",
      "|IQSlT5jGE6CCDhSG0...|         3.0|-112.2400118|                   1|\n",
      "|b2I2DXtZVnpUMCXp1...|           9|         3.5|Tires;Oil Change ...|\n",
      "|0FMKDOU8TJT1x87OK...|          65|         5.0|Barbers;Beauty & ...|\n",
      "|Gu-xs3NIQTj3Mj2xY...|         3.5| -79.4126618|                   1|\n",
      "+--------------------+------------+------------+--------------------+\n",
      "only showing top 20 rows\n",
      "\n"
     ]
    }
   ],
   "source": [
    "business_df = df.select(\"business_id\",\"review_count\",\"stars\",\"categories\")\n",
    "business_df.show()"
   ]
  },
  {
   "cell_type": "code",
   "execution_count": 6,
   "metadata": {},
   "outputs": [
    {
     "name": "stdout",
     "output_type": "stream",
     "text": [
      "+--------------------+------------+-----+--------------------+\n",
      "|         business_id|review_count|stars|          categories|\n",
      "+--------------------+------------+-----+--------------------+\n",
      "|He-G7vWjzVUysIKrf...|          11|  3.0|Hair Stylists;Hai...|\n",
      "|PfOCPjBrlQAnz__NX...|         116|  3.5|American (New);Ni...|\n",
      "|o9eMRCWt5PkpLDE0g...|           5|  4.0| Italian;Restaurants|\n",
      "|EsMcGiZaQuG1OOvL9...|          15|  5.0|Coffee & Tea;Ice ...|\n",
      "|TGWhGNusxyMaA4kQV...|           7|  5.0|Automotive;Auto D...|\n",
      "|XOSRcvtaKc_Q5H1SA...|           3|  4.5|Breakfast & Brunc...|\n",
      "|Y0eMNa5C-YU1RQOZf...|          23|  5.0|Local Services;Se...|\n",
      "|xcgFnd-MwkZeO5G2H...|          38|  4.0|Bakeries;Bagels;Food|\n",
      "|NmZtoE3v8RdSJEczY...|           5|  2.0|General Dentistry...|\n",
      "|fNMVV_ZX7CJSDWQGd...|           7|  3.5|Restaurants;Ameri...|\n",
      "|l09JfMeQ6ynYs5MCJ...|          12|  3.0|Italian;French;Re...|\n",
      "|b2I2DXtZVnpUMCXp1...|           9|  3.5|Tires;Oil Change ...|\n",
      "|0FMKDOU8TJT1x87OK...|          65|  5.0|Barbers;Beauty & ...|\n",
      "|lHYiCS-y8AFjUitv6...|          21|  4.0|   Food;Coffee & Tea|\n",
      "|94KziT6DQ9XlBET3W...|           4|  4.5|Shopping;Books;Ma...|\n",
      "|7YIy1tXOor9VCwvaS...|          46|  1.5|Public Services &...|\n",
      "|PMH4oUa-bWELKogdt...|          16|  2.0|Fitness & Instruc...|\n",
      "|VSGcuYDV3q-AAZ9ZP...|           7|  2.5|Bars;Sports Bars;...|\n",
      "|1K4qrnfyzKzGgJPBE...|          39|  3.5|Tiki Bars;Nightli...|\n",
      "|AtdXq_gu9NTE5rx4c...|           6|  4.0|Coffee & Tea;Food...|\n",
      "+--------------------+------------+-----+--------------------+\n",
      "only showing top 20 rows\n",
      "\n"
     ]
    }
   ],
   "source": [
    "li = [\"5.0\",\"4.5\",\"4.0\",\"3.5\",\"3.0\",\"2.5\",\"2.0\",\"1.5\",\"1.0\"]\n",
    "business_review = business_df.filter(df.stars.isin(li))\n",
    "business_review.show()"
   ]
  },
  {
   "cell_type": "code",
   "execution_count": 7,
   "metadata": {},
   "outputs": [
    {
     "name": "stdout",
     "output_type": "stream",
     "text": [
      "+--------------------+------------+-----+--------------------+--------------------+\n",
      "|         business_id|review_count|stars|          categories|      category_split|\n",
      "+--------------------+------------+-----+--------------------+--------------------+\n",
      "|He-G7vWjzVUysIKrf...|          11|  3.0|Hair Stylists;Hai...|       Hair Stylists|\n",
      "|PfOCPjBrlQAnz__NX...|         116|  3.5|American (New);Ni...|      American (New)|\n",
      "|o9eMRCWt5PkpLDE0g...|           5|  4.0| Italian;Restaurants|             Italian|\n",
      "|EsMcGiZaQuG1OOvL9...|          15|  5.0|Coffee & Tea;Ice ...|        Coffee & Tea|\n",
      "|TGWhGNusxyMaA4kQV...|           7|  5.0|Automotive;Auto D...|          Automotive|\n",
      "|XOSRcvtaKc_Q5H1SA...|           3|  4.5|Breakfast & Brunc...|  Breakfast & Brunch|\n",
      "|Y0eMNa5C-YU1RQOZf...|          23|  5.0|Local Services;Se...|      Local Services|\n",
      "|xcgFnd-MwkZeO5G2H...|          38|  4.0|Bakeries;Bagels;Food|            Bakeries|\n",
      "|NmZtoE3v8RdSJEczY...|           5|  2.0|General Dentistry...|   General Dentistry|\n",
      "|fNMVV_ZX7CJSDWQGd...|           7|  3.5|Restaurants;Ameri...|         Restaurants|\n",
      "|l09JfMeQ6ynYs5MCJ...|          12|  3.0|Italian;French;Re...|             Italian|\n",
      "|b2I2DXtZVnpUMCXp1...|           9|  3.5|Tires;Oil Change ...|               Tires|\n",
      "|0FMKDOU8TJT1x87OK...|          65|  5.0|Barbers;Beauty & ...|             Barbers|\n",
      "|lHYiCS-y8AFjUitv6...|          21|  4.0|   Food;Coffee & Tea|                Food|\n",
      "|94KziT6DQ9XlBET3W...|           4|  4.5|Shopping;Books;Ma...|            Shopping|\n",
      "|7YIy1tXOor9VCwvaS...|          46|  1.5|Public Services &...|Public Services &...|\n",
      "|PMH4oUa-bWELKogdt...|          16|  2.0|Fitness & Instruc...|Fitness & Instruc...|\n",
      "|VSGcuYDV3q-AAZ9ZP...|           7|  2.5|Bars;Sports Bars;...|                Bars|\n",
      "|1K4qrnfyzKzGgJPBE...|          39|  3.5|Tiki Bars;Nightli...|           Tiki Bars|\n",
      "|AtdXq_gu9NTE5rx4c...|           6|  4.0|Coffee & Tea;Food...|        Coffee & Tea|\n",
      "+--------------------+------------+-----+--------------------+--------------------+\n",
      "only showing top 20 rows\n",
      "\n"
     ]
    }
   ],
   "source": [
    "from pyspark.sql import functions as f\n",
    "from pyspark.sql.functions import split,col,explode,count\n",
    "from pyspark.sql.functions import length\n",
    "\n",
    "#business_review_split = business_review.withColumn('categories_split', (f.split(f.col('categories'), ';')))\n",
    "#business_review_split.show()\n",
    "\n",
    "business_split = business_review.withColumn(\"category_split\",split(col(\"categories\"),\";\").getItem(0))\n",
    "business_split.show()"
   ]
  },
  {
   "cell_type": "code",
   "execution_count": 8,
   "metadata": {},
   "outputs": [
    {
     "data": {
      "text/html": [
       "<div>\n",
       "<style scoped>\n",
       "    .dataframe tbody tr th:only-of-type {\n",
       "        vertical-align: middle;\n",
       "    }\n",
       "\n",
       "    .dataframe tbody tr th {\n",
       "        vertical-align: top;\n",
       "    }\n",
       "\n",
       "    .dataframe thead th {\n",
       "        text-align: right;\n",
       "    }\n",
       "</style>\n",
       "<table border=\"1\" class=\"dataframe\">\n",
       "  <thead>\n",
       "    <tr style=\"text-align: right;\">\n",
       "      <th></th>\n",
       "      <th>business_id</th>\n",
       "      <th>review_count</th>\n",
       "      <th>stars</th>\n",
       "      <th>categories</th>\n",
       "      <th>category_split</th>\n",
       "    </tr>\n",
       "  </thead>\n",
       "  <tbody>\n",
       "    <tr>\n",
       "      <th>0</th>\n",
       "      <td>He-G7vWjzVUysIKrfNbPUQ</td>\n",
       "      <td>11</td>\n",
       "      <td>3.0</td>\n",
       "      <td>Hair Stylists;Hair Salons;Men's Hair Salons;Bl...</td>\n",
       "      <td>Hair Stylists</td>\n",
       "    </tr>\n",
       "    <tr>\n",
       "      <th>1</th>\n",
       "      <td>PfOCPjBrlQAnz__NXj9h_w</td>\n",
       "      <td>116</td>\n",
       "      <td>3.5</td>\n",
       "      <td>American (New);Nightlife;Bars;Sandwiches;Ameri...</td>\n",
       "      <td>American (New)</td>\n",
       "    </tr>\n",
       "    <tr>\n",
       "      <th>2</th>\n",
       "      <td>o9eMRCWt5PkpLDE0gOPtcQ</td>\n",
       "      <td>5</td>\n",
       "      <td>4.0</td>\n",
       "      <td>Italian;Restaurants</td>\n",
       "      <td>Italian</td>\n",
       "    </tr>\n",
       "    <tr>\n",
       "      <th>3</th>\n",
       "      <td>EsMcGiZaQuG1OOvL9iUFug</td>\n",
       "      <td>15</td>\n",
       "      <td>5.0</td>\n",
       "      <td>Coffee &amp; Tea;Ice Cream &amp; Frozen Yogurt;Food</td>\n",
       "      <td>Coffee &amp; Tea</td>\n",
       "    </tr>\n",
       "    <tr>\n",
       "      <th>4</th>\n",
       "      <td>TGWhGNusxyMaA4kQVBNeew</td>\n",
       "      <td>7</td>\n",
       "      <td>5.0</td>\n",
       "      <td>Automotive;Auto Detailing</td>\n",
       "      <td>Automotive</td>\n",
       "    </tr>\n",
       "  </tbody>\n",
       "</table>\n",
       "</div>"
      ],
      "text/plain": [
       "              business_id review_count stars  \\\n",
       "0  He-G7vWjzVUysIKrfNbPUQ           11   3.0   \n",
       "1  PfOCPjBrlQAnz__NXj9h_w          116   3.5   \n",
       "2  o9eMRCWt5PkpLDE0gOPtcQ            5   4.0   \n",
       "3  EsMcGiZaQuG1OOvL9iUFug           15   5.0   \n",
       "4  TGWhGNusxyMaA4kQVBNeew            7   5.0   \n",
       "\n",
       "                                          categories  category_split  \n",
       "0  Hair Stylists;Hair Salons;Men's Hair Salons;Bl...   Hair Stylists  \n",
       "1  American (New);Nightlife;Bars;Sandwiches;Ameri...  American (New)  \n",
       "2                                Italian;Restaurants         Italian  \n",
       "3        Coffee & Tea;Ice Cream & Frozen Yogurt;Food    Coffee & Tea  \n",
       "4                          Automotive;Auto Detailing      Automotive  "
      ]
     },
     "execution_count": 8,
     "metadata": {},
     "output_type": "execute_result"
    }
   ],
   "source": [
    "pandasDF = business_split.toPandas()\n",
    "pandasDF.head()"
   ]
  },
  {
   "cell_type": "code",
   "execution_count": 9,
   "metadata": {},
   "outputs": [],
   "source": [
    "#here I am changing the types (reviews counts and stars to integers)\n",
    "from pyspark.sql.types import IntegerType\n",
    "business_split = business_split.withColumn(\"stars\", business_split[\"stars\"].cast(IntegerType()))"
   ]
  },
  {
   "cell_type": "code",
   "execution_count": 10,
   "metadata": {},
   "outputs": [
    {
     "name": "stdout",
     "output_type": "stream",
     "text": [
      "root\n",
      " |-- business_id: string (nullable = true)\n",
      " |-- review_count: integer (nullable = true)\n",
      " |-- stars: integer (nullable = true)\n",
      " |-- categories: string (nullable = true)\n",
      " |-- category_split: string (nullable = true)\n",
      "\n"
     ]
    }
   ],
   "source": [
    "business_split = business_split.withColumn(\"review_count\", business_split[\"review_count\"].cast(IntegerType()))\n",
    "business_split.printSchema()"
   ]
  },
  {
   "cell_type": "code",
   "execution_count": 11,
   "metadata": {},
   "outputs": [
    {
     "name": "stdout",
     "output_type": "stream",
     "text": [
      "+--------------------+------------------+-----------------+\n",
      "|      category_split|        avg(stars)|sum(review_count)|\n",
      "+--------------------+------------------+-----------------+\n",
      "|         Restaurants|3.1610435732823383|           665150|\n",
      "|                Food| 3.406812227074236|           157198|\n",
      "|           Nightlife|3.2507539853511416|           118823|\n",
      "|                Bars| 3.259396506087877|           115304|\n",
      "|American (Traditi...|3.0545004128819158|            90576|\n",
      "|      American (New)|3.2106598984771573|            82841|\n",
      "|             Mexican|3.1513377926421406|            79411|\n",
      "|  Breakfast & Brunch| 3.292056074766355|            66240|\n",
      "|            Shopping| 3.323824209714726|            61227|\n",
      "|          Sandwiches| 3.207161125319693|            58721|\n",
      "|             Italian|3.2652027027027026|            58483|\n",
      "|Event Planning & ...| 3.441997851772288|            55818|\n",
      "|               Pizza|3.0590428837787447|            55712|\n",
      "|Arts & Entertainment| 3.561388653683319|            53041|\n",
      "|     Hotels & Travel|2.8620923913043477|            50792|\n",
      "|          Automotive| 3.286033163265306|            50307|\n",
      "|       Beauty & Spas| 3.548838689150493|            47111|\n",
      "|              Hotels|2.9157303370786516|            45819|\n",
      "|             Burgers| 2.656844106463878|            43825|\n",
      "|             Chinese|3.0521739130434784|            41444|\n",
      "+--------------------+------------------+-----------------+\n",
      "only showing top 20 rows\n",
      "\n"
     ]
    }
   ],
   "source": [
    "#here I am doing a average star rating and sum of review count by categories\n",
    "from pyspark.sql import functions as F\n",
    "from pyspark.sql.functions import desc\n",
    "\n",
    "business_agg = business_split.groupBy(\"category_split\").agg(F.mean('stars'), F.sum('review_count')).sort(col(\"sum(review_count)\").desc())\n",
    "business_agg.show()"
   ]
  },
  {
   "cell_type": "code",
   "execution_count": 12,
   "metadata": {},
   "outputs": [
    {
     "name": "stdout",
     "output_type": "stream",
     "text": [
      "+--------------------+----------+-----------------+\n",
      "|      category_split|avg(stars)|sum(review_count)|\n",
      "+--------------------+----------+-----------------+\n",
      "|Personal Care Ser...|       5.0|                4|\n",
      "|     Trailer Dealers|       5.0|                3|\n",
      "|  Pet Transportation|       5.0|               16|\n",
      "|Mobility Equipmen...|       5.0|                3|\n",
      "|  Storefront Clinics|       5.0|                3|\n",
      "|     Art Restoration|       5.0|               17|\n",
      "|    Knife Sharpening|       5.0|               34|\n",
      "|      Dinner Theater|       5.0|                9|\n",
      "|Chinese Martial Arts|       5.0|               15|\n",
      "| Digitizing Services|       5.0|                3|\n",
      "|   Game Truck Rental|       5.0|                4|\n",
      "| Private Jet Charter|       5.0|                6|\n",
      "|        Contract Law|       5.0|               12|\n",
      "|           Skydiving|       5.0|                8|\n",
      "|             Sailing|       5.0|                3|\n",
      "|  Concierge Medicine|       5.0|               10|\n",
      "|Self-defense Classes|       5.0|                6|\n",
      "|EV Charging Stations|       5.0|                4|\n",
      "| Architectural Tours|       5.0|               20|\n",
      "|         Bookkeepers|       5.0|                4|\n",
      "+--------------------+----------+-----------------+\n",
      "only showing top 20 rows\n",
      "\n"
     ]
    }
   ],
   "source": [
    "#sorting based on average star ratings - higher star ratings\n",
    "\n",
    "business_split.groupBy(\"category_split\").agg(F.mean('stars'), F.sum('review_count')).sort(col(\"avg(stars)\").desc()).show()"
   ]
  },
  {
   "cell_type": "code",
   "execution_count": 13,
   "metadata": {},
   "outputs": [
    {
     "name": "stdout",
     "output_type": "stream",
     "text": [
      "+--------------------+------------------+-----------------+\n",
      "|      category_split|        avg(stars)|sum(review_count)|\n",
      "+--------------------+------------------+-----------------+\n",
      "|Health Insurance ...|               1.0|               49|\n",
      "|     Duty-Free Shops|               1.0|                3|\n",
      "|     Home Developers|               1.0|                9|\n",
      "|Television Servic...|              1.64|             1108|\n",
      "|  Addiction Medicine|1.6666666666666667|               17|\n",
      "|         Matchmakers|              1.75|               20|\n",
      "|           Utilities|1.8333333333333333|              152|\n",
      "|Internet Service ...| 1.853658536585366|              669|\n",
      "|         Medical Law|               2.0|                3|\n",
      "|Generator Install...|               2.0|               42|\n",
      "|       Cardiologists|               2.0|               11|\n",
      "|        Car Auctions|               2.0|               29|\n",
      "|   Sleep Specialists|               2.0|                7|\n",
      "|          Fishmonger|               2.0|                3|\n",
      "|       Well Drilling|               2.0|                3|\n",
      "|           Baguettes|               2.0|                3|\n",
      "|    Military Surplus|               2.0|               33|\n",
      "|          Island Pub|               2.0|               39|\n",
      "|      Dermatologists|               2.0|               94|\n",
      "|          Club Crawl|               2.0|                3|\n",
      "+--------------------+------------------+-----------------+\n",
      "only showing top 20 rows\n",
      "\n",
      "middle\n",
      "+--------------------+------------------+-----------------+\n",
      "|      category_split|        avg(stars)|sum(review_count)|\n",
      "+--------------------+------------------+-----------------+\n",
      "|         Restaurants|3.1610435732823383|           665150|\n",
      "|                Food| 3.406812227074236|           157198|\n",
      "|           Nightlife|3.2507539853511416|           118823|\n",
      "|                Bars| 3.259396506087877|           115304|\n",
      "|American (Traditi...|3.0545004128819158|            90576|\n",
      "|      American (New)|3.2106598984771573|            82841|\n",
      "|             Mexican|3.1513377926421406|            79411|\n",
      "|  Breakfast & Brunch| 3.292056074766355|            66240|\n",
      "|            Shopping| 3.323824209714726|            61227|\n",
      "|          Sandwiches| 3.207161125319693|            58721|\n",
      "|             Italian|3.2652027027027026|            58483|\n",
      "|Event Planning & ...| 3.441997851772288|            55818|\n",
      "|               Pizza|3.0590428837787447|            55712|\n",
      "|Arts & Entertainment| 3.561388653683319|            53041|\n",
      "|          Automotive| 3.286033163265306|            50307|\n",
      "|       Beauty & Spas| 3.548838689150493|            47111|\n",
      "|             Chinese|3.0521739130434784|            41444|\n",
      "|       Home Services| 3.302823179791976|            38806|\n",
      "|         Steakhouses|  3.25705329153605|            38756|\n",
      "|             Seafood|3.1785714285714284|            38158|\n",
      "+--------------------+------------------+-----------------+\n",
      "only showing top 20 rows\n",
      "\n",
      "high\n",
      "+--------------------+------------------+-----------------+\n",
      "|      category_split|        avg(stars)|sum(review_count)|\n",
      "+--------------------+------------------+-----------------+\n",
      "|            Cupcakes|4.0227272727272725|             3038|\n",
      "|         Pet Sitting| 4.123711340206185|             2562|\n",
      "|              Tattoo|  4.01360544217687|             2444|\n",
      "|              Hiking| 4.285714285714286|             2267|\n",
      "|      Makeup Artists|   4.2015503875969|             2129|\n",
      "|       Art Galleries|            4.0375|             1665|\n",
      "|Religious Organiz...|             4.085|             1633|\n",
      "|Garage Door Services| 4.333333333333333|             1453|\n",
      "|     Massage Therapy| 4.220183486238532|             1451|\n",
      "|       Hair Stylists|4.1688311688311686|             1402|\n",
      "|            Churches| 4.101351351351352|             1383|\n",
      "|       Photographers|4.4969325153374236|             1276|\n",
      "|Water Heater Inst...| 4.065573770491803|             1225|\n",
      "|       Chiropractors| 4.306569343065694|             1181|\n",
      "|     Hair Extensions|              4.08|              930|\n",
      "|           Musicians| 4.142857142857143|              923|\n",
      "|            Painters|4.1477272727272725|              813|\n",
      "|   Men's Hair Salons|4.2745098039215685|              794|\n",
      "|Blow Dry/Out Serv...| 4.061224489795919|              790|\n",
      "|        Escape Games| 4.181818181818182|              770|\n",
      "+--------------------+------------------+-----------------+\n",
      "only showing top 20 rows\n",
      "\n",
      "low\n",
      "+-----------------+------------------+-----------------+\n",
      "|   category_split|        avg(stars)|sum(review_count)|\n",
      "+-----------------+------------------+-----------------+\n",
      "|  Hotels & Travel|2.8620923913043477|            50792|\n",
      "|           Hotels|2.9157303370786516|            45819|\n",
      "|          Burgers| 2.656844106463878|            43825|\n",
      "|        Fast Food|2.5040957781978577|            31898|\n",
      "|          Buffets|2.6528497409326426|            29774|\n",
      "|    Chicken Wings| 2.614190687361419|            13774|\n",
      "|      Car Dealers|2.9161676646706587|            11605|\n",
      "|          Resorts| 2.864864864864865|             9978|\n",
      "|      Real Estate|2.6780595369349505|             9716|\n",
      "|          Tex-Mex|2.6956521739130435|             7774|\n",
      "|       Car Rental|2.5247148288973382|             6939|\n",
      "|   Transportation|2.9029126213592233|             6765|\n",
      "|         Car Wash|2.9006410256410255|             6508|\n",
      "| Shopping Centers| 2.971223021582734|             6395|\n",
      "|       Apartments|2.4565217391304346|             6365|\n",
      "|Department Stores|   2.9553264604811|             6089|\n",
      "|      Dance Clubs| 2.911242603550296|             5685|\n",
      "|           Donuts| 2.980392156862745|             5300|\n",
      "|          Doctors|2.9787735849056602|             4882|\n",
      "|       Drugstores|2.7822784810126584|             4784|\n",
      "+-----------------+------------------+-----------------+\n",
      "only showing top 20 rows\n",
      "\n"
     ]
    }
   ],
   "source": [
    "#sorting based on average star ratings - lower star ratings\n",
    "from pyspark.sql.functions import asc\n",
    "business_split.groupBy(\"category_split\").agg(F.mean('stars'), F.sum('review_count')).sort(col(\"avg(stars)\").asc()).show()\n",
    "#shows the middle ranked business based on review count\n",
    "print('middle')\n",
    "business_middle_rank = business_agg.filter((F.col('avg(stars)') > 3.0) & (f.col('avg(stars)') < 4.0))\n",
    "business_middle_rank.show()\n",
    "#shows the highest ranked businesses based on review count\n",
    "print('high')\n",
    "business_highest_rank = business_agg.filter((F.col('avg(stars)') > 4.0) & (f.col('avg(stars)') < 5.1))\n",
    "business_highest_rank.show()\n",
    "#shows the lowest ranked businesses based on review count\n",
    "print('low')\n",
    "business_lowest_rank = business_agg.filter((F.col('avg(stars)') > 0.0) & (f.col('avg(stars)') < 3.0))\n",
    "business_lowest_rank.show()"
   ]
  },
  {
   "cell_type": "code",
   "execution_count": 14,
   "metadata": {},
   "outputs": [
    {
     "data": {
      "text/html": [
       "<div>\n",
       "<style scoped>\n",
       "    .dataframe tbody tr th:only-of-type {\n",
       "        vertical-align: middle;\n",
       "    }\n",
       "\n",
       "    .dataframe tbody tr th {\n",
       "        vertical-align: top;\n",
       "    }\n",
       "\n",
       "    .dataframe thead th {\n",
       "        text-align: right;\n",
       "    }\n",
       "</style>\n",
       "<table border=\"1\" class=\"dataframe\">\n",
       "  <thead>\n",
       "    <tr style=\"text-align: right;\">\n",
       "      <th></th>\n",
       "      <th>category_split</th>\n",
       "      <th>avg(stars)</th>\n",
       "      <th>sum(review_count)</th>\n",
       "    </tr>\n",
       "  </thead>\n",
       "  <tbody>\n",
       "    <tr>\n",
       "      <th>0</th>\n",
       "      <td>Restaurants</td>\n",
       "      <td>3.161044</td>\n",
       "      <td>665150</td>\n",
       "    </tr>\n",
       "    <tr>\n",
       "      <th>1</th>\n",
       "      <td>Food</td>\n",
       "      <td>3.406812</td>\n",
       "      <td>157198</td>\n",
       "    </tr>\n",
       "    <tr>\n",
       "      <th>2</th>\n",
       "      <td>Nightlife</td>\n",
       "      <td>3.250754</td>\n",
       "      <td>118823</td>\n",
       "    </tr>\n",
       "    <tr>\n",
       "      <th>3</th>\n",
       "      <td>Bars</td>\n",
       "      <td>3.259397</td>\n",
       "      <td>115304</td>\n",
       "    </tr>\n",
       "    <tr>\n",
       "      <th>4</th>\n",
       "      <td>American (Traditional)</td>\n",
       "      <td>3.054500</td>\n",
       "      <td>90576</td>\n",
       "    </tr>\n",
       "  </tbody>\n",
       "</table>\n",
       "</div>"
      ],
      "text/plain": [
       "           category_split  avg(stars)  sum(review_count)\n",
       "0             Restaurants    3.161044             665150\n",
       "1                    Food    3.406812             157198\n",
       "2               Nightlife    3.250754             118823\n",
       "3                    Bars    3.259397             115304\n",
       "4  American (Traditional)    3.054500              90576"
      ]
     },
     "execution_count": 14,
     "metadata": {},
     "output_type": "execute_result"
    }
   ],
   "source": [
    "pandasDF = business_agg.toPandas()\n",
    "pandasDF.head()"
   ]
  },
  {
   "cell_type": "code",
   "execution_count": 15,
   "metadata": {},
   "outputs": [
    {
     "data": {
      "text/plain": [
       "Text(0.5, 1.0, 'Top Category Avg Rating')"
      ]
     },
     "execution_count": 15,
     "metadata": {},
     "output_type": "execute_result"
    },
    {
     "data": {
      "image/png": "[encoded data removed]",
      "text/plain": [
       "<Figure size 1440x360 with 1 Axes>"
      ]
     },
     "metadata": {
      "needs_background": "light"
     },
     "output_type": "display_data"
    }
   ],
   "source": [
    "l = pandasDF.nlargest(10, 'sum(review_count)')\n",
    "f, ax = plt.subplots(figsize=(20, 5))\n",
    "ax = sns.barplot(x = \"category_split\",y=\"avg(stars)\",data = l, ci = None)\n",
    "plt.title(\"Top Category Avg Rating\", size=12)"
   ]
  },
  {
   "cell_type": "code",
   "execution_count": 16,
   "metadata": {},
   "outputs": [
    {
     "data": {
      "text/plain": [
       "Text(0.5, 1.0, 'Top Category Review')"
      ]
     },
     "execution_count": 16,
     "metadata": {},
     "output_type": "execute_result"
    },
    {
     "data": {
      "image/png": "[encoded data removed]",
      "text/plain": [
       "<Figure size 1440x360 with 1 Axes>"
      ]
     },
     "metadata": {
      "needs_background": "light"
     },
     "output_type": "display_data"
    }
   ],
   "source": [
    "l = pandasDF.nlargest(10, 'sum(review_count)')\n",
    "f, ax = plt.subplots(figsize=(20, 5))\n",
    "ax = sns.barplot(x = \"category_split\",y=\"sum(review_count)\",data = l, ci = None)\n",
    "plt.title(\"Top Category Review\", size=12)"
   ]
  }
 ],
 "metadata": {
  "kernelspec": {
   "display_name": "Python 3",
   "language": "python",
   "name": "python3"
  },
  "language_info": {
   "codemirror_mode": {
    "name": "ipython",
    "version": 3
   },
   "file_extension": ".py",
   "mimetype": "text/x-python",
   "name": "python",
   "nbconvert_exporter": "python",
   "pygments_lexer": "ipython3",
   "version": "3.7.4"
  }
 },
 "nbformat": 4,
 "nbformat_minor": 4
}
